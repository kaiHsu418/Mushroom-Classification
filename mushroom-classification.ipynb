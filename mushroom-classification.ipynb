{
 "cells": [
  {
   "cell_type": "markdown",
   "id": "8cc06737",
   "metadata": {
    "papermill": {
     "duration": 0.038674,
     "end_time": "2022-05-01T04:03:29.571641",
     "exception": false,
     "start_time": "2022-05-01T04:03:29.532967",
     "status": "completed"
    },
    "tags": []
   },
   "source": [
    "# Import Libraries"
   ]
  },
  {
   "cell_type": "code",
   "execution_count": null,
   "id": "f11b7137",
   "metadata": {
    "_cell_guid": "b1076dfc-b9ad-4769-8c92-a6c4dae69d19",
    "_uuid": "8f2839f25d086af736a60e9eeb907d3b93b6e0e5",
    "execution": {
     "iopub.execute_input": "2022-05-01T04:03:29.648358Z",
     "iopub.status.busy": "2022-05-01T04:03:29.647889Z",
     "iopub.status.idle": "2022-05-01T04:03:36.769613Z",
     "shell.execute_reply": "2022-05-01T04:03:36.768552Z"
    },
    "papermill": {
     "duration": 7.162642,
     "end_time": "2022-05-01T04:03:36.772462",
     "exception": false,
     "start_time": "2022-05-01T04:03:29.609820",
     "status": "completed"
    },
    "tags": []
   },
   "outputs": [],
   "source": [
    "import numpy as np\n",
    "import pandas as pd \n",
    "import seaborn as sb\n",
    "import matplotlib.pyplot as plt\n",
    "\n",
    "\n",
    "from sklearn.model_selection import train_test_split, GridSearchCV\n",
    "from sklearn.linear_model import LogisticRegression\n",
    "from sklearn.ensemble import RandomForestClassifier\n",
    "from sklearn.svm import SVC\n",
    "from sklearn.naive_bayes import GaussianNB\n",
    "from sklearn.metrics import confusion_matrix\n",
    "from sklearn.preprocessing import MinMaxScaler\n",
    "from sklearn.model_selection import train_test_split\n",
    "import tensorflow as tf\n",
    "\n",
    "test_size = 0.3\n",
    "random_state = 100"
   ]
  },
  {
   "cell_type": "markdown",
   "id": "902d6264",
   "metadata": {
    "papermill": {
     "duration": 0.037638,
     "end_time": "2022-05-01T04:03:36.849071",
     "exception": false,
     "start_time": "2022-05-01T04:03:36.811433",
     "status": "completed"
    },
    "tags": []
   },
   "source": [
    "# Import and view data"
   ]
  },
  {
   "cell_type": "code",
   "execution_count": null,
   "id": "ac8ede96",
   "metadata": {
    "execution": {
     "iopub.execute_input": "2022-05-01T04:03:36.926471Z",
     "iopub.status.busy": "2022-05-01T04:03:36.925740Z",
     "iopub.status.idle": "2022-05-01T04:03:37.019191Z",
     "shell.execute_reply": "2022-05-01T04:03:37.018054Z"
    },
    "papermill": {
     "duration": 0.136077,
     "end_time": "2022-05-01T04:03:37.022303",
     "exception": false,
     "start_time": "2022-05-01T04:03:36.886226",
     "status": "completed"
    },
    "scrolled": true,
    "tags": []
   },
   "outputs": [],
   "source": [
    "data = pd.read_csv(\"./mushrooms.csv\")\n",
    "data.info()"
   ]
  },
  {
   "cell_type": "code",
   "execution_count": null,
   "id": "4fcdbb3a",
   "metadata": {
    "execution": {
     "iopub.execute_input": "2022-05-01T04:03:37.105042Z",
     "iopub.status.busy": "2022-05-01T04:03:37.104706Z",
     "iopub.status.idle": "2022-05-01T04:03:37.139209Z",
     "shell.execute_reply": "2022-05-01T04:03:37.138335Z"
    },
    "papermill": {
     "duration": 0.077338,
     "end_time": "2022-05-01T04:03:37.141921",
     "exception": false,
     "start_time": "2022-05-01T04:03:37.064583",
     "status": "completed"
    },
    "tags": []
   },
   "outputs": [],
   "source": [
    "data.head(10)"
   ]
  },
  {
   "cell_type": "markdown",
   "id": "ea2b3c07",
   "metadata": {
    "papermill": {
     "duration": 0.037401,
     "end_time": "2022-05-01T04:03:37.217146",
     "exception": false,
     "start_time": "2022-05-01T04:03:37.179745",
     "status": "completed"
    },
    "tags": []
   },
   "source": [
    "# Handle null values"
   ]
  },
  {
   "cell_type": "code",
   "execution_count": null,
   "id": "9b9458a6",
   "metadata": {
    "execution": {
     "iopub.execute_input": "2022-05-01T04:03:37.294285Z",
     "iopub.status.busy": "2022-05-01T04:03:37.293875Z",
     "iopub.status.idle": "2022-05-01T04:03:37.322423Z",
     "shell.execute_reply": "2022-05-01T04:03:37.321565Z"
    },
    "papermill": {
     "duration": 0.070046,
     "end_time": "2022-05-01T04:03:37.324639",
     "exception": false,
     "start_time": "2022-05-01T04:03:37.254593",
     "status": "completed"
    },
    "tags": []
   },
   "outputs": [],
   "source": [
    "data.isnull().sum()"
   ]
  },
  {
   "cell_type": "markdown",
   "id": "8f84bd82",
   "metadata": {
    "papermill": {
     "duration": 0.037686,
     "end_time": "2022-05-01T04:03:37.399605",
     "exception": false,
     "start_time": "2022-05-01T04:03:37.361919",
     "status": "completed"
    },
    "tags": []
   },
   "source": [
    "# Handle categorical values"
   ]
  },
  {
   "cell_type": "code",
   "execution_count": null,
   "id": "1f903f4d",
   "metadata": {
    "execution": {
     "iopub.execute_input": "2022-05-01T04:03:37.478939Z",
     "iopub.status.busy": "2022-05-01T04:03:37.478424Z",
     "iopub.status.idle": "2022-05-01T04:03:37.486398Z",
     "shell.execute_reply": "2022-05-01T04:03:37.485575Z"
    },
    "papermill": {
     "duration": 0.050897,
     "end_time": "2022-05-01T04:03:37.488563",
     "exception": false,
     "start_time": "2022-05-01T04:03:37.437666",
     "status": "completed"
    },
    "tags": []
   },
   "outputs": [],
   "source": [
    "data.dtypes"
   ]
  },
  {
   "cell_type": "code",
   "execution_count": null,
   "id": "7e854ca1",
   "metadata": {
    "execution": {
     "iopub.execute_input": "2022-05-01T04:03:37.567836Z",
     "iopub.status.busy": "2022-05-01T04:03:37.567373Z",
     "iopub.status.idle": "2022-05-01T04:03:37.602354Z",
     "shell.execute_reply": "2022-05-01T04:03:37.601598Z"
    },
    "papermill": {
     "duration": 0.076487,
     "end_time": "2022-05-01T04:03:37.604744",
     "exception": false,
     "start_time": "2022-05-01T04:03:37.528257",
     "status": "completed"
    },
    "tags": []
   },
   "outputs": [],
   "source": [
    "mapper_class = {key: value for value, key in enumerate(data[data.columns[0]].unique())}\n",
    "mapper_cap_shape = {key: value for value, key in enumerate(data[data.columns[1]].unique())}\n",
    "mapper_cap_surface = {key: value for value, key in enumerate(data[data.columns[2]].unique())}\n",
    "mapper_cap_color = {key: value for value, key in enumerate(data[data.columns[3]].unique())}\n",
    "mapper_bruises = {key: value for value, key in enumerate(data[data.columns[4]].unique())}\n",
    "mapper_odor = {key: value for value, key in enumerate(data[data.columns[5]].unique())}\n",
    "mapper_gill_attachment = {key: value for value, key in enumerate(data[data.columns[6]].unique())}\n",
    "mapper_gill_spacing = {key: value for value, key in enumerate(data[data.columns[7]].unique())}\n",
    "mapper_gill_size = {key: value for value, key in enumerate(data[data.columns[8]].unique())}\n",
    "mapper_gill_color = {key: value for value, key in enumerate(data[data.columns[9]].unique())}\n",
    "mapper_stalk_shape = {key: value for value, key in enumerate(data[data.columns[10]].unique())}\n",
    "mapper_stalk_root = {key: value for value, key in enumerate(data[data.columns[11]].unique())}\n",
    "mapper_stalk_surface_above_ring = {key: value for value, key in enumerate(data[data.columns[12]].unique())}\n",
    "mapper_stalk_surface_below_ring = {key: value for value, key in enumerate(data[data.columns[13]].unique())}\n",
    "mapper_stalk_color_above_ring = {key: value for value, key in enumerate(data[data.columns[14]].unique())}\n",
    "mapper_stalk_color_below_ring = {key: value for value, key in enumerate(data[data.columns[15]].unique())}\n",
    "mapper_veil_type = {key: value for value, key in enumerate(data[data.columns[16]].unique())}\n",
    "mapper_veil_color = {key: value for value, key in enumerate(data[data.columns[17]].unique())}\n",
    "mapper_ring_number = {key: value for value, key in enumerate(data[data.columns[18]].unique())}\n",
    "mapper_ring_type = {key: value for value, key in enumerate(data[data.columns[19]].unique())}\n",
    "mapper_spore_print_color = {key: value for value, key in enumerate(data[data.columns[20]].unique())}\n",
    "mapper_population = {key: value for value, key in enumerate(data[data.columns[21]].unique())}\n",
    "mapper_habitat = {key: value for value, key in enumerate(data[data.columns[22]].unique())}"
   ]
  },
  {
   "cell_type": "code",
   "execution_count": null,
   "id": "54e917b8",
   "metadata": {
    "execution": {
     "iopub.execute_input": "2022-05-01T04:03:37.683126Z",
     "iopub.status.busy": "2022-05-01T04:03:37.682577Z",
     "iopub.status.idle": "2022-05-01T04:03:37.772333Z",
     "shell.execute_reply": "2022-05-01T04:03:37.771538Z"
    },
    "papermill": {
     "duration": 0.131774,
     "end_time": "2022-05-01T04:03:37.774456",
     "exception": false,
     "start_time": "2022-05-01T04:03:37.642682",
     "status": "completed"
    },
    "tags": []
   },
   "outputs": [],
   "source": [
    "data[data.columns[0]] = data[data.columns[0]].map(mapper_class)\n",
    "data[data.columns[1]] = data[data.columns[1]].map(mapper_cap_shape)\n",
    "data[data.columns[2]] = data[data.columns[2]].map(mapper_cap_surface)\n",
    "data[data.columns[3]] = data[data.columns[3]].map(mapper_cap_color)\n",
    "data[data.columns[4]] = data[data.columns[4]].map(mapper_bruises)\n",
    "data[data.columns[5]] = data[data.columns[5]].map(mapper_odor)\n",
    "data[data.columns[6]] = data[data.columns[6]].map(mapper_gill_attachment)\n",
    "data[data.columns[7]] = data[data.columns[7]].map(mapper_gill_spacing)\n",
    "data[data.columns[8]] = data[data.columns[8]].map(mapper_gill_size)\n",
    "data[data.columns[9]] = data[data.columns[9]].map(mapper_gill_color)\n",
    "data[data.columns[10]] = data[data.columns[10]].map(mapper_stalk_shape)\n",
    "data[data.columns[11]] = data[data.columns[11]].map(mapper_stalk_root)\n",
    "data[data.columns[12]] = data[data.columns[12]].map(mapper_stalk_surface_above_ring)\n",
    "data[data.columns[13]] = data[data.columns[13]].map(mapper_stalk_surface_below_ring)\n",
    "data[data.columns[14]] = data[data.columns[14]].map(mapper_stalk_color_above_ring)\n",
    "data[data.columns[15]] = data[data.columns[15]].map(mapper_stalk_color_below_ring)\n",
    "data[data.columns[16]] = data[data.columns[16]].map(mapper_veil_type)\n",
    "data[data.columns[17]] = data[data.columns[17]].map(mapper_veil_color)\n",
    "data[data.columns[18]] = data[data.columns[18]].map(mapper_ring_number)\n",
    "data[data.columns[19]] = data[data.columns[19]].map(mapper_ring_type)\n",
    "data[data.columns[20]] = data[data.columns[20]].map(mapper_spore_print_color)\n",
    "data[data.columns[21]] = data[data.columns[21]].map(mapper_population)\n",
    "data[data.columns[22]] = data[data.columns[22]].map(mapper_habitat)\n",
    "\n",
    "data.head(10)"
   ]
  },
  {
   "cell_type": "code",
   "execution_count": null,
   "id": "2f092d59",
   "metadata": {
    "execution": {
     "iopub.execute_input": "2022-05-01T04:03:37.853914Z",
     "iopub.status.busy": "2022-05-01T04:03:37.853356Z",
     "iopub.status.idle": "2022-05-01T04:03:37.870220Z",
     "shell.execute_reply": "2022-05-01T04:03:37.869195Z"
    },
    "papermill": {
     "duration": 0.059178,
     "end_time": "2022-05-01T04:03:37.872584",
     "exception": false,
     "start_time": "2022-05-01T04:03:37.813406",
     "status": "completed"
    },
    "tags": []
   },
   "outputs": [],
   "source": [
    "data.info()"
   ]
  },
  {
   "cell_type": "markdown",
   "id": "0ad02164",
   "metadata": {
    "papermill": {
     "duration": 0.038983,
     "end_time": "2022-05-01T04:03:37.954742",
     "exception": false,
     "start_time": "2022-05-01T04:03:37.915759",
     "status": "completed"
    },
    "tags": []
   },
   "source": [
    "# Derive Data"
   ]
  },
  {
   "cell_type": "code",
   "execution_count": null,
   "id": "d3ee4f7b",
   "metadata": {
    "execution": {
     "iopub.execute_input": "2022-05-01T04:03:38.036759Z",
     "iopub.status.busy": "2022-05-01T04:03:38.036397Z",
     "iopub.status.idle": "2022-05-01T04:03:38.056689Z",
     "shell.execute_reply": "2022-05-01T04:03:38.055966Z"
    },
    "papermill": {
     "duration": 0.063711,
     "end_time": "2022-05-01T04:03:38.058601",
     "exception": false,
     "start_time": "2022-05-01T04:03:37.994890",
     "status": "completed"
    },
    "tags": []
   },
   "outputs": [],
   "source": [
    "data.head()"
   ]
  },
  {
   "cell_type": "code",
   "execution_count": null,
   "id": "a69f8e73",
   "metadata": {
    "execution": {
     "iopub.execute_input": "2022-05-01T04:03:38.139322Z",
     "iopub.status.busy": "2022-05-01T04:03:38.138813Z",
     "iopub.status.idle": "2022-05-01T04:03:38.144480Z",
     "shell.execute_reply": "2022-05-01T04:03:38.143829Z"
    },
    "papermill": {
     "duration": 0.048245,
     "end_time": "2022-05-01T04:03:38.146853",
     "exception": false,
     "start_time": "2022-05-01T04:03:38.098608",
     "status": "completed"
    },
    "tags": []
   },
   "outputs": [],
   "source": [
    "x = data.iloc[:, 1:]\n",
    "y = data.iloc[:, 0]"
   ]
  },
  {
   "cell_type": "markdown",
   "id": "96b0912f",
   "metadata": {
    "papermill": {
     "duration": 0.041765,
     "end_time": "2022-05-01T04:03:38.228916",
     "exception": false,
     "start_time": "2022-05-01T04:03:38.187151",
     "status": "completed"
    },
    "tags": []
   },
   "source": [
    "# Scaling"
   ]
  },
  {
   "cell_type": "code",
   "execution_count": null,
   "id": "d5096c96",
   "metadata": {
    "execution": {
     "iopub.execute_input": "2022-05-01T04:03:38.309567Z",
     "iopub.status.busy": "2022-05-01T04:03:38.309057Z",
     "iopub.status.idle": "2022-05-01T04:03:38.355873Z",
     "shell.execute_reply": "2022-05-01T04:03:38.355216Z"
    },
    "papermill": {
     "duration": 0.088936,
     "end_time": "2022-05-01T04:03:38.357637",
     "exception": false,
     "start_time": "2022-05-01T04:03:38.268701",
     "status": "completed"
    },
    "tags": []
   },
   "outputs": [],
   "source": [
    "scaler = MinMaxScaler()\n",
    "x = pd.DataFrame(scaler.fit_transform(x), columns = x.columns)\n",
    "x"
   ]
  },
  {
   "cell_type": "markdown",
   "id": "12db048c",
   "metadata": {
    "papermill": {
     "duration": 0.041703,
     "end_time": "2022-05-01T04:03:38.439854",
     "exception": false,
     "start_time": "2022-05-01T04:03:38.398151",
     "status": "completed"
    },
    "tags": []
   },
   "source": [
    "# Explore"
   ]
  },
  {
   "cell_type": "code",
   "execution_count": null,
   "id": "adf19c7c",
   "metadata": {
    "execution": {
     "iopub.execute_input": "2022-05-01T04:03:38.524564Z",
     "iopub.status.busy": "2022-05-01T04:03:38.524017Z",
     "iopub.status.idle": "2022-05-01T04:03:41.470034Z",
     "shell.execute_reply": "2022-05-01T04:03:41.469309Z"
    },
    "papermill": {
     "duration": 2.99487,
     "end_time": "2022-05-01T04:03:41.476670",
     "exception": false,
     "start_time": "2022-05-01T04:03:38.481800",
     "status": "completed"
    },
    "tags": []
   },
   "outputs": [],
   "source": [
    "sb.set(rc={\"figure.figsize\":(20, 15)})\n",
    "sb.heatmap(data.corr(), annot = True)"
   ]
  },
  {
   "cell_type": "markdown",
   "id": "a27dba41",
   "metadata": {
    "papermill": {
     "duration": 0.051369,
     "end_time": "2022-05-01T04:03:41.578881",
     "exception": false,
     "start_time": "2022-05-01T04:03:41.527512",
     "status": "completed"
    },
    "tags": []
   },
   "source": [
    "There are no useless columns."
   ]
  },
  {
   "cell_type": "code",
   "execution_count": null,
   "id": "b81a6f7c",
   "metadata": {
    "execution": {
     "iopub.execute_input": "2022-05-01T04:03:41.687276Z",
     "iopub.status.busy": "2022-05-01T04:03:41.686809Z",
     "iopub.status.idle": "2022-05-01T04:06:20.482812Z",
     "shell.execute_reply": "2022-05-01T04:06:20.481403Z"
    },
    "papermill": {
     "duration": 158.923829,
     "end_time": "2022-05-01T04:06:20.555995",
     "exception": false,
     "start_time": "2022-05-01T04:03:41.632166",
     "status": "completed"
    },
    "tags": []
   },
   "outputs": [],
   "source": [
    "sb.pairplot(data)"
   ]
  },
  {
   "cell_type": "markdown",
   "id": "7a33462f",
   "metadata": {
    "papermill": {
     "duration": 0.067727,
     "end_time": "2022-05-01T04:06:20.689592",
     "exception": false,
     "start_time": "2022-05-01T04:06:20.621865",
     "status": "completed"
    },
    "tags": []
   },
   "source": [
    "# Train-Test split"
   ]
  },
  {
   "cell_type": "code",
   "execution_count": null,
   "id": "d447f73e",
   "metadata": {
    "execution": {
     "iopub.execute_input": "2022-05-01T04:06:20.824882Z",
     "iopub.status.busy": "2022-05-01T04:06:20.824229Z",
     "iopub.status.idle": "2022-05-01T04:06:20.833070Z",
     "shell.execute_reply": "2022-05-01T04:06:20.832016Z"
    },
    "papermill": {
     "duration": 0.078947,
     "end_time": "2022-05-01T04:06:20.835424",
     "exception": false,
     "start_time": "2022-05-01T04:06:20.756477",
     "status": "completed"
    },
    "tags": []
   },
   "outputs": [],
   "source": [
    "x_train, x_test, y_train, y_test = train_test_split(x, y, test_size = test_size, random_state = random_state)"
   ]
  },
  {
   "cell_type": "markdown",
   "id": "30c88ca4",
   "metadata": {
    "papermill": {
     "duration": 0.067328,
     "end_time": "2022-05-01T04:06:20.969595",
     "exception": false,
     "start_time": "2022-05-01T04:06:20.902267",
     "status": "completed"
    },
    "tags": []
   },
   "source": [
    "# Create and train model"
   ]
  },
  {
   "cell_type": "markdown",
   "id": "254ccc15",
   "metadata": {
    "papermill": {
     "duration": 0.065859,
     "end_time": "2022-05-01T04:06:21.100355",
     "exception": false,
     "start_time": "2022-05-01T04:06:21.034496",
     "status": "completed"
    },
    "tags": []
   },
   "source": [
    "## Logistic Regression"
   ]
  },
  {
   "cell_type": "code",
   "execution_count": null,
   "id": "7b6d0c1a",
   "metadata": {
    "execution": {
     "iopub.execute_input": "2022-05-01T04:06:21.235437Z",
     "iopub.status.busy": "2022-05-01T04:06:21.235015Z",
     "iopub.status.idle": "2022-05-01T04:06:22.290571Z",
     "shell.execute_reply": "2022-05-01T04:06:22.289442Z"
    },
    "papermill": {
     "duration": 1.125998,
     "end_time": "2022-05-01T04:06:22.294012",
     "exception": false,
     "start_time": "2022-05-01T04:06:21.168014",
     "status": "completed"
    },
    "tags": []
   },
   "outputs": [],
   "source": [
    "model_lr = LogisticRegression(penalty = \"l2\", random_state = random_state, max_iter = 10000, n_jobs = -1)\n",
    "model_lr.fit(x_train, y_train)\n",
    "model_lr.score(x_test, y_test)"
   ]
  },
  {
   "cell_type": "markdown",
   "id": "ac7a1638",
   "metadata": {
    "papermill": {
     "duration": 0.066233,
     "end_time": "2022-05-01T04:06:22.482698",
     "exception": false,
     "start_time": "2022-05-01T04:06:22.416465",
     "status": "completed"
    },
    "tags": []
   },
   "source": [
    "While nearly 100% accuracy is not normal, we need to see that veil_type has almose 1 correlation so this is actually expected."
   ]
  },
  {
   "cell_type": "code",
   "execution_count": null,
   "id": "5e048b09",
   "metadata": {
    "execution": {
     "iopub.execute_input": "2022-05-01T04:06:22.618191Z",
     "iopub.status.busy": "2022-05-01T04:06:22.616999Z",
     "iopub.status.idle": "2022-05-01T04:06:22.635221Z",
     "shell.execute_reply": "2022-05-01T04:06:22.633357Z"
    },
    "papermill": {
     "duration": 0.087431,
     "end_time": "2022-05-01T04:06:22.638278",
     "exception": false,
     "start_time": "2022-05-01T04:06:22.550847",
     "status": "completed"
    },
    "tags": []
   },
   "outputs": [],
   "source": [
    "y_predict_lr = model_lr.predict(x_test)\n",
    "confusion_matrix(y_predict_lr, y_test)"
   ]
  },
  {
   "cell_type": "markdown",
   "id": "247d8dd7",
   "metadata": {
    "papermill": {
     "duration": 0.064951,
     "end_time": "2022-05-01T04:06:22.824850",
     "exception": false,
     "start_time": "2022-05-01T04:06:22.759899",
     "status": "completed"
    },
    "tags": []
   },
   "source": [
    "## Random Forest Classifier"
   ]
  },
  {
   "cell_type": "code",
   "execution_count": null,
   "id": "186ec866",
   "metadata": {
    "execution": {
     "iopub.execute_input": "2022-05-01T04:06:22.964616Z",
     "iopub.status.busy": "2022-05-01T04:06:22.964290Z",
     "iopub.status.idle": "2022-05-01T04:13:03.721510Z",
     "shell.execute_reply": "2022-05-01T04:13:03.720356Z"
    },
    "papermill": {
     "duration": 400.897366,
     "end_time": "2022-05-01T04:13:03.791423",
     "exception": false,
     "start_time": "2022-05-01T04:06:22.894057",
     "status": "completed"
    },
    "tags": []
   },
   "outputs": [],
   "source": [
    "grid_rf = GridSearchCV(RandomForestClassifier(criterion = \"gini\", random_state = random_state), {\"n_estimators\": range(2, 502, 10)}, cv = 10)\n",
    "grid_rf.fit(x_train, y_train)\n",
    "model_rf = grid_rf.best_estimator_\n",
    "model_rf.score(x_test, y_test)"
   ]
  },
  {
   "cell_type": "code",
   "execution_count": null,
   "id": "1d7f4683",
   "metadata": {
    "execution": {
     "iopub.execute_input": "2022-05-01T04:13:03.928152Z",
     "iopub.status.busy": "2022-05-01T04:13:03.927864Z",
     "iopub.status.idle": "2022-05-01T04:13:03.941828Z",
     "shell.execute_reply": "2022-05-01T04:13:03.940964Z"
    },
    "papermill": {
     "duration": 0.086011,
     "end_time": "2022-05-01T04:13:03.943944",
     "exception": false,
     "start_time": "2022-05-01T04:13:03.857933",
     "status": "completed"
    },
    "tags": []
   },
   "outputs": [],
   "source": [
    "y_predict_rf = model_rf.predict(x_test)\n",
    "confusion_matrix(y_predict_rf, y_test)"
   ]
  },
  {
   "cell_type": "markdown",
   "id": "39885572",
   "metadata": {
    "papermill": {
     "duration": 0.068348,
     "end_time": "2022-05-01T04:13:04.080360",
     "exception": false,
     "start_time": "2022-05-01T04:13:04.012012",
     "status": "completed"
    },
    "tags": []
   },
   "source": [
    "100% accuracy again can be attributed to the high correlation in data, so pay no heed."
   ]
  },
  {
   "cell_type": "code",
   "execution_count": null,
   "id": "32af0220",
   "metadata": {
    "execution": {
     "iopub.execute_input": "2022-05-01T04:13:04.223115Z",
     "iopub.status.busy": "2022-05-01T04:13:04.222829Z",
     "iopub.status.idle": "2022-05-01T04:13:04.230162Z",
     "shell.execute_reply": "2022-05-01T04:13:04.229329Z"
    },
    "papermill": {
     "duration": 0.080708,
     "end_time": "2022-05-01T04:13:04.232419",
     "exception": false,
     "start_time": "2022-05-01T04:13:04.151711",
     "status": "completed"
    },
    "tags": []
   },
   "outputs": [],
   "source": [
    "model_rf.get_params()"
   ]
  },
  {
   "cell_type": "markdown",
   "id": "ed5ce0f5",
   "metadata": {
    "papermill": {
     "duration": 0.068533,
     "end_time": "2022-05-01T04:13:04.369116",
     "exception": false,
     "start_time": "2022-05-01T04:13:04.300583",
     "status": "completed"
    },
    "tags": []
   },
   "source": [
    "## Naive Bayes"
   ]
  },
  {
   "cell_type": "code",
   "execution_count": null,
   "id": "edd479ab",
   "metadata": {
    "execution": {
     "iopub.execute_input": "2022-05-01T04:13:04.508733Z",
     "iopub.status.busy": "2022-05-01T04:13:04.508214Z",
     "iopub.status.idle": "2022-05-01T04:13:04.524819Z",
     "shell.execute_reply": "2022-05-01T04:13:04.523831Z"
    },
    "papermill": {
     "duration": 0.089239,
     "end_time": "2022-05-01T04:13:04.527189",
     "exception": false,
     "start_time": "2022-05-01T04:13:04.437950",
     "status": "completed"
    },
    "tags": []
   },
   "outputs": [],
   "source": [
    "model_nb = GaussianNB()\n",
    "model_nb.fit(x_train, y_train)\n",
    "model_nb.score(x_test, y_test)"
   ]
  },
  {
   "cell_type": "code",
   "execution_count": null,
   "id": "a7fc53e5",
   "metadata": {
    "execution": {
     "iopub.execute_input": "2022-05-01T04:13:04.669516Z",
     "iopub.status.busy": "2022-05-01T04:13:04.669188Z",
     "iopub.status.idle": "2022-05-01T04:13:04.679578Z",
     "shell.execute_reply": "2022-05-01T04:13:04.678876Z"
    },
    "papermill": {
     "duration": 0.083914,
     "end_time": "2022-05-01T04:13:04.681598",
     "exception": false,
     "start_time": "2022-05-01T04:13:04.597684",
     "status": "completed"
    },
    "tags": []
   },
   "outputs": [],
   "source": [
    "y_predict_nb = model_nb.predict(x_test)\n",
    "confusion_matrix(y_predict_nb, y_test)"
   ]
  },
  {
   "cell_type": "markdown",
   "id": "3170b715",
   "metadata": {
    "papermill": {
     "duration": 0.066355,
     "end_time": "2022-05-01T04:13:04.817771",
     "exception": false,
     "start_time": "2022-05-01T04:13:04.751416",
     "status": "completed"
    },
    "tags": []
   },
   "source": [
    "## ANN"
   ]
  },
  {
   "cell_type": "code",
   "execution_count": null,
   "id": "5d646b9f",
   "metadata": {
    "execution": {
     "iopub.execute_input": "2022-05-01T04:13:04.958690Z",
     "iopub.status.busy": "2022-05-01T04:13:04.958098Z",
     "iopub.status.idle": "2022-05-01T04:13:06.337162Z",
     "shell.execute_reply": "2022-05-01T04:13:06.336002Z"
    },
    "papermill": {
     "duration": 1.453978,
     "end_time": "2022-05-01T04:13:06.339915",
     "exception": false,
     "start_time": "2022-05-01T04:13:04.885937",
     "status": "completed"
    },
    "tags": []
   },
   "outputs": [],
   "source": [
    "inputs = tf.keras.Input(shape = (x_train.shape[1], ))\n",
    "x = tf.keras.layers.Dense(32, activation = \"relu\")(inputs)\n",
    "x = tf.keras.layers.Dense(64, activation = \"relu\")(x)\n",
    "outputs = tf.keras.layers.Dense(1, activation = \"sigmoid\")(x)\n",
    "\n",
    "model = tf.keras.Model(inputs = inputs, outputs = outputs)\n",
    "optimizer = tf.keras.optimizers.Adam(learning_rate = 0.05)\n",
    "metrics = [\n",
    "    tf.keras.metrics.BinaryAccuracy(name = \"acc\"),\n",
    "    tf.keras.metrics.AUC(name = \"auc\")\n",
    "]\n",
    "\n",
    "model.compile(optimizer, loss = \"binary_crossentropy\", metrics = metrics)"
   ]
  },
  {
   "cell_type": "code",
   "execution_count": null,
   "id": "838b1a2a",
   "metadata": {
    "execution": {
     "iopub.execute_input": "2022-05-01T04:13:06.480132Z",
     "iopub.status.busy": "2022-05-01T04:13:06.479842Z",
     "iopub.status.idle": "2022-05-01T04:14:29.154284Z",
     "shell.execute_reply": "2022-05-01T04:14:29.153182Z"
    },
    "papermill": {
     "duration": 82.74709,
     "end_time": "2022-05-01T04:14:29.156607",
     "exception": false,
     "start_time": "2022-05-01T04:13:06.409517",
     "status": "completed"
    },
    "tags": []
   },
   "outputs": [],
   "source": [
    "early_stopping = tf.keras.callbacks.EarlyStopping(monitor=\"val_loss\", patience = 5)\n",
    "history = model.fit(x_train, y_train, validation_split = 0.2, batch_size = 100, epochs = 99999999, callbacks=[early_stopping])"
   ]
  },
  {
   "cell_type": "code",
   "execution_count": null,
   "id": "44974f6d",
   "metadata": {
    "execution": {
     "iopub.execute_input": "2022-05-01T04:14:30.620281Z",
     "iopub.status.busy": "2022-05-01T04:14:30.619721Z",
     "iopub.status.idle": "2022-05-01T04:15:29.883591Z",
     "shell.execute_reply": "2022-05-01T04:15:29.882590Z"
    },
    "papermill": {
     "duration": 60.469721,
     "end_time": "2022-05-01T04:15:30.362564",
     "exception": false,
     "start_time": "2022-05-01T04:14:29.892843",
     "status": "completed"
    },
    "tags": []
   },
   "outputs": [],
   "source": [
    "sb.set(rc={\"figure.figsize\":(5, 5)})\n",
    "sb.lineplot(x = range(len(history.history[\"loss\"])), y = history.history[\"loss\"], label = \"Training\")\n",
    "sb.lineplot(x = range(len(history.history[\"loss\"])), y = history.history[\"val_loss\"], label = \"Validation\")\n",
    "plt.ylabel(\"Loss\")\n",
    "plt.xlabel(\"Epochs\")\n",
    "plt.legend()"
   ]
  },
  {
   "cell_type": "code",
   "execution_count": null,
   "id": "689ab66a",
   "metadata": {
    "execution": {
     "iopub.execute_input": "2022-05-01T04:15:31.819115Z",
     "iopub.status.busy": "2022-05-01T04:15:31.818806Z",
     "iopub.status.idle": "2022-05-01T04:15:32.227467Z",
     "shell.execute_reply": "2022-05-01T04:15:32.226803Z"
    },
    "papermill": {
     "duration": 1.136791,
     "end_time": "2022-05-01T04:15:32.229609",
     "exception": false,
     "start_time": "2022-05-01T04:15:31.092818",
     "status": "completed"
    },
    "tags": []
   },
   "outputs": [],
   "source": [
    "sb.lineplot(x = range(len(history.history[\"loss\"])), y = history.history[\"acc\"], label = \"Training\")\n",
    "sb.lineplot(x = range(len(history.history[\"loss\"])), y = history.history[\"val_acc\"], label = \"Validation\")\n",
    "plt.ylabel(\"Loss\")\n",
    "plt.xlabel(\"Epochs\")\n",
    "plt.legend()"
   ]
  },
  {
   "cell_type": "markdown",
   "id": "cdd1c523",
   "metadata": {
    "papermill": {
     "duration": 0.733055,
     "end_time": "2022-05-01T04:15:33.702666",
     "exception": false,
     "start_time": "2022-05-01T04:15:32.969611",
     "status": "completed"
    },
    "tags": []
   },
   "source": []
  }
 ],
 "metadata": {
  "kernelspec": {
   "display_name": "Python 3 (ipykernel)",
   "language": "python",
   "name": "python3"
  },
  "language_info": {
   "codemirror_mode": {
    "name": "ipython",
    "version": 3
   },
   "file_extension": ".py",
   "mimetype": "text/x-python",
   "name": "python",
   "nbconvert_exporter": "python",
   "pygments_lexer": "ipython3",
   "version": "3.9.7"
  },
  "papermill": {
   "default_parameters": {},
   "duration": 738.922108,
   "end_time": "2022-05-01T04:15:37.080992",
   "environment_variables": {},
   "exception": null,
   "input_path": "__notebook__.ipynb",
   "output_path": "__notebook__.ipynb",
   "parameters": {},
   "start_time": "2022-05-01T04:03:18.158884",
   "version": "2.3.4"
  }
 },
 "nbformat": 4,
 "nbformat_minor": 5
}
